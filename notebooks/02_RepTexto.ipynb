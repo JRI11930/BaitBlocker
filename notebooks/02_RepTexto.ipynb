{
 "cells": [
  {
   "cell_type": "markdown",
   "id": "bdb6d2be",
   "metadata": {},
   "source": [
    "<h1 style=\"background: linear-gradient(180deg,rgb(92, 0, 128) 0%,rgb(46, 0, 153) 75%, rgb(65, 0, 230) 100%); color: white; font-family: 'Raleway', sans-serif; padding: 10px 20px; border-radius: 10px; text-align: center; font-weight:500;\">\n",
    "Representaciones de Texto\n",
    "</h1>\n",
    "<br>\n",
    "\n",
    "**PRESENTAN** Armando Islas, Daniela Flores, Oscar Berrueco, Natalia Anaya"
   ]
  },
  {
   "cell_type": "code",
   "execution_count": 3,
   "id": "3c4a4398",
   "metadata": {},
   "outputs": [],
   "source": [
    "import os\n",
    "import pandas as pd\n",
    "import numpy as np\n",
    "import pickle\n",
    "import logging\n",
    "from sklearn.feature_extraction.text import CountVectorizer, TfidfVectorizer\n",
    "from sklearn.decomposition import TruncatedSVD\n",
    "from pathlib import Path"
   ]
  },
  {
   "cell_type": "code",
   "execution_count": 4,
   "id": "f487cb20",
   "metadata": {},
   "outputs": [],
   "source": [
    "# Directorios de entrada y salida\n",
    "INPUT_DIR = \"../outputs/normalized/\"\n",
    "OUTPUT_DIR = \"../outputs/text-reps/\""
   ]
  },
  {
   "cell_type": "code",
   "execution_count": 6,
   "id": "762f60d5",
   "metadata": {},
   "outputs": [],
   "source": [
    "# Crear directorio de salida si no existe\n",
    "Path(OUTPUT_DIR).mkdir(parents=True, exist_ok=True)"
   ]
  },
  {
   "cell_type": "code",
   "execution_count": 7,
   "id": "dfe95947",
   "metadata": {},
   "outputs": [],
   "source": [
    "# Configuración de parámetros\n",
    "NGRAM_RANGES = [(1, 1), (2, 2), (3, 3)]\n",
    "NGRAM_NAMES = ['uni', 'bi', 'tri']\n",
    "VECTORIZER_MODES = ['binary', 'freq', 'tfidf']\n",
    "SVD_COMPONENTS = 50\n",
    "RANDOM_STATE = 0"
   ]
  },
  {
   "cell_type": "code",
   "execution_count": 9,
   "id": "f44c7b6c",
   "metadata": {},
   "outputs": [],
   "source": [
    "def get_vectorizer(mode, ngram_range):\n",
    "    \"\"\"\n",
    "    Devuelve el vectorizador apropiado según el modo y el rango de n-gramas\n",
    "    \n",
    "    Args:\n",
    "        mode (str): Modo de vectorización ('binary', 'freq', 'tfidf')\n",
    "        ngram_range (tuple): Rango de n-gramas como tupla (n, n)\n",
    "        \n",
    "    Returns:\n",
    "        Vectorizador configurado\n",
    "    \"\"\"\n",
    "    if mode == 'binary':\n",
    "        return CountVectorizer(ngram_range=ngram_range, binary=True)\n",
    "    elif mode == 'freq':\n",
    "        return CountVectorizer(ngram_range=ngram_range)\n",
    "    elif mode == 'tfidf':\n",
    "        return TfidfVectorizer(ngram_range=ngram_range)\n",
    "    else:\n",
    "        raise ValueError(f\"Modo de vectorización no válido: {mode}\")"
   ]
  },
  {
   "cell_type": "code",
   "execution_count": 10,
   "id": "b1a3ecb4",
   "metadata": {},
   "outputs": [],
   "source": [
    "def process_file(file_path):\n",
    "    \"\"\"\n",
    "    Procesa un archivo, generando todas las representaciones vectoriales y aplicando SVD\n",
    "    \n",
    "    Args:\n",
    "        file_path (str): Ruta al archivo CSV de entrada\n",
    "    \"\"\"\n",
    "    try:\n",
    "        # Obtener nombre base del archivo\n",
    "        base_name = os.path.basename(file_path).split('.')[0]\n",
    "        \n",
    "        # Leer datos\n",
    "        df = pd.read_csv(file_path)\n",
    "        \n",
    "        # Verificar columnas\n",
    "        if 'Teaser Text' not in df.columns or 'Tag Value' not in df.columns:\n",
    "            return\n",
    "        \n",
    "        # Separar características y etiquetas\n",
    "        X_text = df['Teaser Text'].fillna('').values\n",
    "        y = df['Tag Value'].values\n",
    "        \n",
    "        # Iterar sobre configuraciones de n-gramas y modos de vectorización\n",
    "        for ngram_idx, ngram_range in enumerate(NGRAM_RANGES):\n",
    "            ngram_name = NGRAM_NAMES[ngram_idx]\n",
    "            \n",
    "            for mode in VECTORIZER_MODES:\n",
    "                \n",
    "                # Obtener vectorizador\n",
    "                vectorizer = get_vectorizer(mode, ngram_range)\n",
    "                \n",
    "                # Generar matriz de características\n",
    "                X_vectorized = vectorizer.fit_transform(X_text)\n",
    "                \n",
    "                # Aplicar TruncatedSVD para reducción de dimensionalidad\n",
    "                svd = TruncatedSVD(n_components=SVD_COMPONENTS, random_state=RANDOM_STATE)\n",
    "                X_svd = svd.fit_transform(X_vectorized)\n",
    "                \n",
    "                # Calcular varianza explicada\n",
    "                explained_variance = svd.explained_variance_ratio_.sum()\n",
    "                \n",
    "                # Crear el objeto de resultado para guardar\n",
    "                result = {\n",
    "                    'X': X_svd,\n",
    "                    'y': y,\n",
    "                    'vectorizer': vectorizer,\n",
    "                    'svd': svd,\n",
    "                    'explained_variance': explained_variance,\n",
    "                    'config': {\n",
    "                        'ngram_range': ngram_range,\n",
    "                        'mode': mode,\n",
    "                        'svd_components': SVD_COMPONENTS\n",
    "                    }\n",
    "                }\n",
    "                \n",
    "                # Definir nombre de archivo de salida\n",
    "                output_filename = f\"{base_name}_{ngram_name}_{mode}_svd{SVD_COMPONENTS}.pkl\"\n",
    "                output_path = os.path.join(OUTPUT_DIR, output_filename)\n",
    "                \n",
    "                # Guardar resultado\n",
    "                with open(output_path, 'wb') as f:\n",
    "                    pickle.dump(result, f)\n",
    "    \n",
    "    except Exception as e:\n",
    "        raise e"
   ]
  },
  {
   "cell_type": "code",
   "execution_count": 11,
   "id": "a1283f67",
   "metadata": {},
   "outputs": [],
   "source": [
    "# Verificar que exista el directorio de entrada\n",
    "if not os.path.exists(INPUT_DIR):\n",
    "    print('No existe el directorio')\n",
    "\n",
    "# Enumerar archivos CSV en el directorio de entrada\n",
    "csv_files = [os.path.join(INPUT_DIR, f) for f in os.listdir(INPUT_DIR) \n",
    "             if f.endswith('.csv') and f.startswith('normalized_')]\n",
    "\n",
    "if not csv_files:\n",
    "    print('No hay archivos CSV en el directorio')\n",
    "\n",
    "# Procesar cada archivo\n",
    "for file_path in csv_files:\n",
    "    process_file(file_path)"
   ]
  }
 ],
 "metadata": {
  "kernelspec": {
   "display_name": "Entorno ESCOM",
   "language": "python",
   "name": "python3"
  },
  "language_info": {
   "codemirror_mode": {
    "name": "ipython",
    "version": 3
   },
   "file_extension": ".py",
   "mimetype": "text/x-python",
   "name": "python",
   "nbconvert_exporter": "python",
   "pygments_lexer": "ipython3",
   "version": "3.10.12"
  }
 },
 "nbformat": 4,
 "nbformat_minor": 5
}
